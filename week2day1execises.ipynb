{
 "cells": [
  {
   "cell_type": "markdown",
   "id": "d42a875b",
   "metadata": {},
   "source": [
    "## Exercise #1 <br>\n",
    "<p>Cube Number Test... Print out all cubed numbers up to the total value 1000, so if the cubed number is over 1000 break the loop.</p>"
   ]
  },
  {
   "cell_type": "code",
   "execution_count": 1,
   "id": "dd33a347",
   "metadata": {},
   "outputs": [
    {
     "name": "stdout",
     "output_type": "stream",
     "text": [
      "1\n",
      "8\n",
      "27\n",
      "64\n",
      "125\n",
      "216\n",
      "343\n",
      "512\n",
      "729\n",
      "1000\n"
     ]
    }
   ],
   "source": [
    "number = 1\n",
    "cubed = 1\n",
    "while cubed < 1000:\n",
    "    cubed = number ** 3\n",
    "    print(cubed)\n",
    "    number += 1\n",
    "    "
   ]
  },
  {
   "cell_type": "markdown",
   "id": "cf62f6a6",
   "metadata": {},
   "source": [
    "## Exercise #2 <br>\n",
    "<p>Get first prime numbers up to 100</p>"
   ]
  },
  {
   "cell_type": "code",
   "execution_count": 2,
   "id": "ff8a1636",
   "metadata": {},
   "outputs": [
    {
     "name": "stdout",
     "output_type": "stream",
     "text": [
      "[2, 3, 5, 7, 11, 13, 17, 19, 23, 27, 29, 31, 35, 37, 41, 43, 47, 51, 53, 57, 59, 61, 65, 67, 71, 73, 77, 79, 83, 87, 89, 93, 97]\n"
     ]
    }
   ],
   "source": [
    "remove = False\n",
    "nums = []\n",
    "\n",
    "for x in range(3, 101, 2):\n",
    "    nums.append(x)\n",
    "    \n",
    "for num in nums:\n",
    "    for possibleFactor in range(2, int(num/2)+1, 1):\n",
    "        if num%possibleFactor == 0:\n",
    "            remove = True\n",
    "            break\n",
    "    if remove == True:\n",
    "        nums.remove(num)\n",
    "    remove = False\n",
    "    \n",
    "nums.insert(0, 2)\n",
    "print(nums)        "
   ]
  },
  {
   "cell_type": "markdown",
   "id": "ad9b2da6",
   "metadata": {},
   "source": [
    "# Exercise 3 <br>\n",
    "<p>Take in a users input for their age, if they are younger than 18 print kids, if they're 18 to 65 print adults, else print seniors</p>"
   ]
  },
  {
   "cell_type": "code",
   "execution_count": 4,
   "id": "bb04f4d5",
   "metadata": {},
   "outputs": [
    {
     "name": "stdout",
     "output_type": "stream",
     "text": [
      "How old are you? 65\n",
      "seniors\n"
     ]
    }
   ],
   "source": [
    "age = float(input('How old are you? '))\n",
    "if age < 18:\n",
    "    print('kids')\n",
    "elif age < 65:\n",
    "    print('adults')\n",
    "else: \n",
    "    print('seniors')"
   ]
  }
 ],
 "metadata": {
  "kernelspec": {
   "display_name": "Python 3",
   "language": "python",
   "name": "python3"
  },
  "language_info": {
   "codemirror_mode": {
    "name": "ipython",
    "version": 3
   },
   "file_extension": ".py",
   "mimetype": "text/x-python",
   "name": "python",
   "nbconvert_exporter": "python",
   "pygments_lexer": "ipython3",
   "version": "3.8.8"
  }
 },
 "nbformat": 4,
 "nbformat_minor": 5
}
